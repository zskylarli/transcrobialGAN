{
  "nbformat": 4,
  "nbformat_minor": 0,
  "metadata": {
    "accelerator": "GPU",
    "colab": {
      "name": "transcrobial_pix2pix.ipynb",
      "provenance": [],
      "collapsed_sections": [
        "7wNjDKdQy35h"
      ],
      "include_colab_link": true
    },
    "kernelspec": {
      "display_name": "Python 3",
      "name": "python3"
    }
  },
  "cells": [
    {
      "cell_type": "markdown",
      "metadata": {
        "id": "view-in-github",
        "colab_type": "text"
      },
      "source": [
        "<a href=\"https://colab.research.google.com/github/zskylarli/transcrobialGAN/blob/main/transcrobial_pix2pix.ipynb\" target=\"_parent\"><img src=\"https://colab.research.google.com/assets/colab-badge.svg\" alt=\"Open In Colab\"/></a>"
      ]
    },
    {
      "cell_type": "markdown",
      "metadata": {
        "id": "dguJYUdNf68o"
      },
      "source": [
        "# Transcrobial GAN\n",
        "\n",
        "*PyTorch implementation*\n",
        "\n",
        "Last updated: 4/14/2021\n",
        "\n",
        "Author: Skylar Li \n",
        "\n",
        "Used datasets:\n",
        "\n",
        "- /finalproject (680 images)\n",
        "\n",
        "> DIBaS Sorted Dataset for pix2pix [https://drive.google.com/drive/folders/1sRcxDldxM6WQz1JjvO_IqI375obUv6wC?usp=sharing]\n",
        "\n",
        "\n"
      ]
    },
    {
      "cell_type": "markdown",
      "metadata": {
        "id": "7wNjDKdQy35h"
      },
      "source": [
        "# Install"
      ]
    },
    {
      "cell_type": "code",
      "metadata": {
        "id": "TRm-USlsHgEV"
      },
      "source": [
        "!git clone https://github.com/junyanz/pytorch-CycleGAN-and-pix2pix"
      ],
      "execution_count": null,
      "outputs": []
    },
    {
      "cell_type": "code",
      "metadata": {
        "id": "Pt3igws3eiVp"
      },
      "source": [
        "import os\n",
        "os.chdir('pytorch-CycleGAN-and-pix2pix/')"
      ],
      "execution_count": null,
      "outputs": []
    },
    {
      "cell_type": "code",
      "metadata": {
        "id": "z1EySlOXwwoa"
      },
      "source": [
        "!pip install -r requirements.txt"
      ],
      "execution_count": null,
      "outputs": []
    },
    {
      "cell_type": "markdown",
      "metadata": {
        "id": "8daqlgVhw29P"
      },
      "source": [
        "# Dataset\n",
        "\n",
        "We uploaded the DIBaS dataset to a shared Google Drive folder. "
      ]
    },
    {
      "cell_type": "code",
      "metadata": {
        "id": "asxTR8zT186S"
      },
      "source": [
        "from google.colab import drive\n",
        "drive.mount('/content/gdrive', force_remount = True)"
      ],
      "execution_count": null,
      "outputs": []
    },
    {
      "cell_type": "code",
      "metadata": {
        "id": "EJQC6hm8TzLC"
      },
      "source": [
        "PATH_OF_DATA= '/content/gdrive/\"My Drive\"/finalproject'\n",
        "!ls {PATH_OF_DATA}"
      ],
      "execution_count": null,
      "outputs": []
    },
    {
      "cell_type": "code",
      "metadata": {
        "id": "cFJgOGrt2WA5"
      },
      "source": [
        "!python ./datasets/combine_A_and_B.py --fold_A /content/gdrive/\"My Drive\"/finalproject/A --fold_B /content/gdrive/\"My Drive\"/finalproject/B --fold_AB /content/gdrive/\"My Drive\"/finalproject/AB"
      ],
      "execution_count": null,
      "outputs": []
    },
    {
      "cell_type": "markdown",
      "metadata": {
        "id": "yFw1kDQBx3LN"
      },
      "source": [
        "# Training\n",
        "\n",
        "-   `python train.py --dataroot /content/gdrive/\"My Drive\"/finalproject/AB --name dibas_pix2pix --model pix2pix --direction BtoA`\n",
        "\n",
        "Change the `--dataroot` and `--name` to your own dataset's path and model's name. Use `--gpu_ids 0,1,..` to train on multiple GPUs and `--batch_size` to change the batch size. Add `--direction BtoA` if you want to train a model to transfrom from class B to A."
      ]
    },
    {
      "cell_type": "code",
      "metadata": {
        "id": "0sp7TCT2x9dB"
      },
      "source": [
        "python train.py --dataroot /content/gdrive/\"My Drive\"/finalproject/AB --name dibas_pix2pix --model pix2pix --direction BtoA"
      ],
      "execution_count": null,
      "outputs": []
    },
    {
      "cell_type": "markdown",
      "metadata": {
        "id": "9UkcaFZiyASl"
      },
      "source": [
        "# Testing\n",
        "\n",
        "-   `python test.py --dataroot ./datasets/facades --direction BtoA --model pix2pix --name facades_pix2pix`\n",
        "\n",
        "Change the `--dataroot`, `--name`, and `--direction` to be consistent with your trained model's configuration and how you want to transform images.\n"
      ]
    },
    {
      "cell_type": "code",
      "metadata": {
        "colab": {
          "background_save": true
        },
        "id": "mey7o6j-0368"
      },
      "source": [
        "!ls checkpoints/"
      ],
      "execution_count": null,
      "outputs": []
    },
    {
      "cell_type": "code",
      "metadata": {
        "id": "uCsKkEq0yGh0"
      },
      "source": [
        "python test.py --dataroot /content/gdrive/\"My Drive\"/finalproject/AB --direction BtoA --model pix2pix --name dibas_pix2pix"
      ],
      "execution_count": null,
      "outputs": []
    },
    {
      "cell_type": "markdown",
      "metadata": {
        "id": "OzSKIPUByfiN"
      },
      "source": [
        "# Save results to My Drive"
      ]
    },
    {
      "cell_type": "code",
      "metadata": {
        "id": "7Vtn2Qnh9pCf"
      },
      "source": [
        "!zip -r /content/gdrive/\"My Drive\"/finalproject/pix2pix_results.zip /content/pytorch-CycleGAN-and-pix2pix/results/dibas_pix2pix/test_latest/images"
      ],
      "execution_count": null,
      "outputs": []
    }
  ]
}